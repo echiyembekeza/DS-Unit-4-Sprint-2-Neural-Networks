{
 "cells": [
  {
   "cell_type": "markdown",
   "metadata": {},
   "source": [
    "<img align=\"left\" src=\"https://lever-client-logos.s3.amazonaws.com/864372b1-534c-480e-acd5-9711f850815c-1524247202159.png\" width=200>\n",
    "<br></br>\n",
    "<br></br>\n",
    "\n",
    "## *Data Science Unit 4 Sprint 2*\n",
    "\n",
    "# Sprint Challenge - Neural Network Foundations\n",
    "\n",
    "Table of Problems\n",
    "\n",
    "1. [Defining Neural Networks](#Q1)\n",
    "2. [Chocolate Gummy Bears](#Q2)\n",
    "    - Perceptron\n",
    "    - Multilayer Perceptron\n",
    "4. [Keras MMP](#Q3)"
   ]
  },
  {
   "cell_type": "markdown",
   "metadata": {},
   "source": [
    "<a id=\"Q1\"></a>\n",
    "## 1. Define the following terms:\n",
    "\n",
    "- **Neuron:** Make up the entire neural network. The nodes are simple, but highly interconnected elements which are organized in layers and process information using dynamic state responses to external inputs. Interestingly, artificial neural networks are modeled after biological brains and networks.\n",
    "\n",
    "- **Input Layer:** The input layer is responsible for presenting patterns to the network. Ultimately, the input layer would communicate with one or more of the hidden layers. These nodes are deemed passive as they do not alter the data; receiving a single value on their input and duplicate the value to their many outputs.\n",
    "\n",
    "- **Hidden Layer:** Hidden layers are layers of mathematical functions that are each designed to produce an output specific to an intended result. They allow for the function of a neural network to be broken down into specific transformations of the data. They are found between the input and output of the algorithm. The function applies weights to the inputs and directs them through an activation function as the input.\n",
    "\n",
    "- **Output Layer:** The hidden layers link to the output. Output layers receive connections from hidden layers. It returns an output value that corresponds to the prediction of the response variable. In classification problems, only one output mode. In multiclass classification, could be more. The activate nodes of the output layer combine and change the data to produce output values.\n",
    "\n",
    "- **Activation:** Each node has one, and the activation function defines the output of that node given an input (or set of inputs). There are a number of activation functions available. The ones we used for this week's sprint were sigmoid and RelU.\n",
    "\n",
    "- **Backpropagation:** an algorithm for supervised learning of artificial neural networks using gradient descent. The method calculates the gradient of the error function with respect to the neural network's weights. The calculation of the gradient proceeds \"backwards\" through the network. With the gradient of the final layer of weights being calculated first and the gradient of the first layer of weights being calculated last.\n"
   ]
  },
  {
   "cell_type": "markdown",
   "metadata": {},
   "source": [
    "## 2. Chocolate Gummy Bears <a id=\"Q2\"></a>\n",
    "\n",
    "Right now, you're probably thinking, \"yuck, who the hell would eat that?\". Great question. Your candy company wants to know too. And you thought I was kidding about the [Chocolate Gummy Bears](https://nuts.com/chocolatessweets/gummies/gummy-bears/milk-gummy-bears.html?utm_source=google&utm_medium=cpc&adpos=1o1&gclid=Cj0KCQjwrfvsBRD7ARIsAKuDvMOZrysDku3jGuWaDqf9TrV3x5JLXt1eqnVhN0KM6fMcbA1nod3h8AwaAvWwEALw_wcB). \n",
    "\n",
    "Let's assume that a candy company has gone out and collected information on the types of Halloween candy kids ate. Our candy company wants to predict the eating behavior of witches, warlocks, and ghosts -- aka costumed kids. They shared a sample dataset with us. Each row represents a piece of candy that a costumed child was presented with during \"trick\" or \"treat\". We know if the candy was `chocolate` (or not chocolate) or `gummy` (or not gummy). Your goal is to predict if the costumed kid `ate` the piece of candy. \n",
    "\n",
    "If both chocolate and gummy equal one, you've got a chocolate gummy bear on your hands!?!?!\n",
    "![Chocolate Gummy Bear](https://ed910ae2d60f0d25bcb8-80550f96b5feb12604f4f720bfefb46d.ssl.cf1.rackcdn.com/3fb630c04435b7b5-2leZuM7_-zoom.jpg)"
   ]
  },
  {
   "cell_type": "code",
   "execution_count": 1,
   "metadata": {
    "inputHidden": false,
    "jupyter": {
     "outputs_hidden": false
    },
    "outputHidden": false
   },
   "outputs": [],
   "source": [
    "import pandas as pd\n",
    "candy = pd.read_csv('chocolate_gummy_bears.csv')"
   ]
  },
  {
   "cell_type": "code",
   "execution_count": 2,
   "metadata": {
    "inputHidden": false,
    "jupyter": {
     "outputs_hidden": false
    },
    "outputHidden": false
   },
   "outputs": [
    {
     "data": {
      "text/html": [
       "<div>\n",
       "<style scoped>\n",
       "    .dataframe tbody tr th:only-of-type {\n",
       "        vertical-align: middle;\n",
       "    }\n",
       "\n",
       "    .dataframe tbody tr th {\n",
       "        vertical-align: top;\n",
       "    }\n",
       "\n",
       "    .dataframe thead th {\n",
       "        text-align: right;\n",
       "    }\n",
       "</style>\n",
       "<table border=\"1\" class=\"dataframe\">\n",
       "  <thead>\n",
       "    <tr style=\"text-align: right;\">\n",
       "      <th></th>\n",
       "      <th>chocolate</th>\n",
       "      <th>gummy</th>\n",
       "      <th>ate</th>\n",
       "    </tr>\n",
       "  </thead>\n",
       "  <tbody>\n",
       "    <tr>\n",
       "      <th>0</th>\n",
       "      <td>0</td>\n",
       "      <td>1</td>\n",
       "      <td>1</td>\n",
       "    </tr>\n",
       "    <tr>\n",
       "      <th>1</th>\n",
       "      <td>1</td>\n",
       "      <td>0</td>\n",
       "      <td>1</td>\n",
       "    </tr>\n",
       "    <tr>\n",
       "      <th>2</th>\n",
       "      <td>0</td>\n",
       "      <td>1</td>\n",
       "      <td>1</td>\n",
       "    </tr>\n",
       "    <tr>\n",
       "      <th>3</th>\n",
       "      <td>0</td>\n",
       "      <td>0</td>\n",
       "      <td>0</td>\n",
       "    </tr>\n",
       "    <tr>\n",
       "      <th>4</th>\n",
       "      <td>1</td>\n",
       "      <td>1</td>\n",
       "      <td>0</td>\n",
       "    </tr>\n",
       "  </tbody>\n",
       "</table>\n",
       "</div>"
      ],
      "text/plain": [
       "   chocolate  gummy  ate\n",
       "0          0      1    1\n",
       "1          1      0    1\n",
       "2          0      1    1\n",
       "3          0      0    0\n",
       "4          1      1    0"
      ]
     },
     "execution_count": 2,
     "metadata": {},
     "output_type": "execute_result"
    }
   ],
   "source": [
    "candy.head()"
   ]
  },
  {
   "cell_type": "markdown",
   "metadata": {},
   "source": [
    "### Perceptron\n",
    "\n",
    "To make predictions on the `candy` dataframe. Build and train a Perceptron using numpy. Your target column is `ate` and your features: `chocolate` and `gummy`. Do not do any feature engineering. :P\n",
    "\n",
    "Once you've trained your model, report your accuracy. You will not be able to achieve more than ~50% with the simple perceptron. Explain why you could not achieve a higher accuracy with the *simple perceptron* architecture, because it's possible to achieve ~95% accuracy on this dataset. Provide your answer in markdown (and *optional* data anlysis code) after your perceptron implementation. "
   ]
  },
  {
   "cell_type": "code",
   "execution_count": 11,
   "metadata": {},
   "outputs": [],
   "source": [
    "# The necessities\n",
    "import numpy as np\n",
    "import matplotlib.pyplot as plt\n",
    "# Sklearn packages\n",
    "from sklearn.model_selection import train_test_split\n",
    "from sklearn.metrics import accuracy_score\n",
    "from sklearn.preprocessing import StandardScaler"
   ]
  },
  {
   "cell_type": "code",
   "execution_count": 4,
   "metadata": {
    "inputHidden": false,
    "jupyter": {
     "outputs_hidden": false
    },
    "outputHidden": false
   },
   "outputs": [],
   "source": [
    "# Start your candy perceptron here\n",
    "\n",
    "X = candy[['chocolate', 'gummy']].values\n",
    "y = candy['ate'].values"
   ]
  },
  {
   "cell_type": "code",
   "execution_count": 5,
   "metadata": {},
   "outputs": [
    {
     "data": {
      "text/plain": [
       "((10000, 2), (10000,))"
      ]
     },
     "execution_count": 5,
     "metadata": {},
     "output_type": "execute_result"
    }
   ],
   "source": [
    "X.shape, y.shape"
   ]
  },
  {
   "cell_type": "code",
   "execution_count": 6,
   "metadata": {},
   "outputs": [
    {
     "data": {
      "text/plain": [
       "((8000, 2), (2000, 2), (8000,), (2000,))"
      ]
     },
     "execution_count": 6,
     "metadata": {},
     "output_type": "execute_result"
    }
   ],
   "source": [
    "X_train, X_test, y_train, y_test = train_test_split(X, y, test_size=0.20, random_state=85)\n",
    "X_train.shape, X_test.shape, y_train.shape, y_test.shape"
   ]
  },
  {
   "cell_type": "code",
   "execution_count": 7,
   "metadata": {},
   "outputs": [],
   "source": [
    "class Perceptron(object):\n",
    "  def __init__(self, rate=0.1, niter=1000):\n",
    "    self.rate = rate\n",
    "    self.niter = niter\n",
    "\n",
    "  def fit(self, X, y):\n",
    "    \"\"\" fit training data\n",
    "    X : training vectors, X.shape : [#samples, #features]\n",
    "    y : target values, y.shape : [#samples]\n",
    "    \"\"\"\n",
    "\n",
    "    # Initialize weights\n",
    "    self.weight = np.zeros(1 + X.shape[1])\n",
    "\n",
    "    # Number of misclassifications\n",
    "    self.errors = [] # number of misclassifications\n",
    "\n",
    "    for i in range(self.niter):\n",
    "      err = 0\n",
    "      for xi, target in zip(X, y):\n",
    "        delta_w = self.rate * (target - self.predict(xi))\n",
    "        self.weight[1:] += delta_w * xi\n",
    "        self.weight[0] += delta_w\n",
    "        err += int(delta_w != 0.0)\n",
    "      self.errors.append(err)\n",
    "    return self\n",
    "\n",
    "  def net_input(self, X):\n",
    "    return np.dot(X, self.weight[1:]) + self.weight[0]\n",
    "\n",
    "  def predict(self, X):\n",
    "    \"\"\"Return class label after unit step\"\"\"\n",
    "    return np.where(self.net_input(X) >= 0.0, 1, 0)"
   ]
  },
  {
   "cell_type": "code",
   "execution_count": 8,
   "metadata": {},
   "outputs": [
    {
     "data": {
      "text/plain": [
       "<__main__.Perceptron at 0x115686d68>"
      ]
     },
     "execution_count": 8,
     "metadata": {},
     "output_type": "execute_result"
    }
   ],
   "source": [
    "pn = Perceptron()\n",
    "pn.fit(X_train, y_train)"
   ]
  },
  {
   "cell_type": "code",
   "execution_count": 9,
   "metadata": {},
   "outputs": [
    {
     "name": "stdout",
     "output_type": "stream",
     "text": [
      "accuracy: 0.507\n"
     ]
    }
   ],
   "source": [
    "predictions = [pn.predict(X_test[i]) for i in range(len(X_test))]\n",
    "print(\"accuracy:\", accuracy_score(y_test, predictions))"
   ]
  },
  {
   "cell_type": "markdown",
   "metadata": {},
   "source": [
    "The accuracy seems okay."
   ]
  },
  {
   "cell_type": "markdown",
   "metadata": {},
   "source": [
    "### Multilayer Perceptron <a id=\"Q3\"></a>\n",
    "\n",
    "Using the sample candy dataset, implement a Neural Network Multilayer Perceptron class that uses backpropagation to update the network's weights. Your Multilayer Perceptron should be implemented in Numpy. \n",
    "Your network must have one hidden layer.\n",
    "\n",
    "Once you've trained your model, report your accuracy. Explain why your MLP's performance is considerably better than your simple perceptron's on the candy dataset. "
   ]
  },
  {
   "cell_type": "code",
   "execution_count": 10,
   "metadata": {
    "inputHidden": false,
    "jupyter": {
     "outputs_hidden": false
    },
    "outputHidden": false
   },
   "outputs": [],
   "source": [
    "class NeuralNetwork:\n",
    "  def __init__(self):\n",
    "    # Set up the architecture of the neural network\n",
    "    self.inputs = 2\n",
    "    self.hiddenNodes = 3\n",
    "    self.outputNodes = 1\n",
    "\n",
    "    # initial weights: 2 x 3 matrix array for the 1st layer \n",
    "    self.weights1 = np.random.rand(self.inputs, self.hiddenNodes)\n",
    "\n",
    "    # 3 x 1 matrix array for the hidden to output pathway\n",
    "    self.weights2 = np.random.rand(self.hiddenNodes, self.outputNodes)\n",
    "\n",
    "  def sigmoid(self, s):\n",
    "    return 1 / (1+np.exp(-s))\n",
    "\n",
    "  def sigmoidPrime(self, s):\n",
    "    return s * (1 - s)\n",
    "\n",
    "  def feed_forward(self, X):\n",
    "    \"\"\"\n",
    "    Calculate the NN inference using feed forward. aka \"predict\"\n",
    "    \"\"\"\n",
    "\n",
    "    # weighted sum of inputs => hidden layer\n",
    "    self.hidden_sum = np.dot(X, self.weights1)\n",
    "\n",
    "    # activations of weighted sum\n",
    "    self.activated_hidden = self.sigmoid(self.hidden_sum)\n",
    "\n",
    "    # weighted sum between hidden and output\n",
    "    self.output_sum = np.dot(self.activated_hidden, self.weights2)\n",
    "\n",
    "    # final activation of output\n",
    "    self.activated_output = self.sigmoid(self.output_sum)\n",
    "\n",
    "    return self.activated_output\n",
    "\n",
    "  def backward(self, X, y, o):\n",
    "    \"\"\"\n",
    "    Backward propagate through the network\n",
    "    \"\"\"\n",
    "\n",
    "    # error in output\n",
    "    self.o_error = y - o\n",
    "\n",
    "    # apply derivative of sigmoid to error\n",
    "    # how far off are we in relation to the sigmoid f(x) of the output\n",
    "    # ^- aka hidden => output\n",
    "    self.o_delta = self.o_error * self.sigmoidPrime(o)\n",
    "\n",
    "    # z2 error\n",
    "    self.z2_error = self.o_delta.dot(self.weights2.T)\n",
    "\n",
    "    # how much of that \"far off\" can be explained by the input => hidden\n",
    "    self.z2_delta = self.z2_error * self.sigmoidPrime(self.activated_hidden)\n",
    "\n",
    "    # adjustment to first set of weights (input => hdiden)\n",
    "    self.weights1 += X.T.dot(self.z2_delta)\n",
    "\n",
    "    # adjustment to second set of weights (hidden => output)\n",
    "    self.weights2 += self.activated_hidden.T.dot(self.o_delta)\n",
    "\n",
    "  def train(self, X, y):\n",
    "    o = self.feed_forward(X)\n",
    "    self.backward(X, y, o)"
   ]
  },
  {
   "cell_type": "code",
   "execution_count": 12,
   "metadata": {},
   "outputs": [],
   "source": [
    "# reshaping y_train and y_test\n",
    "y_train = y_train.reshape(-1, 1)\n",
    "y_test = y_test.reshape(-1, 1)"
   ]
  },
  {
   "cell_type": "code",
   "execution_count": 13,
   "metadata": {},
   "outputs": [
    {
     "name": "stdout",
     "output_type": "stream",
     "text": [
      "Predicted Output: \n",
      "[[1.20641050e-99]\n",
      " [4.99999567e-01]\n",
      " [1.20641050e-99]\n",
      " ...\n",
      " [1.20641050e-99]\n",
      " [1.20641050e-99]\n",
      " [4.99999567e-01]]\n",
      "Loss: \n",
      "0.3752250000000463\n"
     ]
    }
   ],
   "source": [
    "nn = NeuralNetwork()\n",
    "\n",
    "cost = []\n",
    "for i in range(1000):\n",
    "    cost.append(np.mean(np.square(y - nn.feed_forward(X))))\n",
    "    nn.train(X_train, y_train)\n",
    "\n",
    "\n",
    "print(\"Predicted Output: \\n\" + str(nn.feed_forward(X))) \n",
    "print(\"Loss: \\n\" + str(np.mean(np.square(y - nn.feed_forward(X)))))"
   ]
  },
  {
   "cell_type": "markdown",
   "metadata": {},
   "source": [
    "The added layers, and the ability to \"backpropagate\" account for why the score is so dramatically improved. A perceptron is limited to a feed-forward process, so it can't go back to implement backpropagation (i.e. making adjustments on the error and the weights). The multilayer has better performance because it can \"learn\" from this error, which allows us to get these high accuracy scores in our predictions.\n"
   ]
  },
  {
   "cell_type": "markdown",
   "metadata": {},
   "source": [
    "P.S. Don't try candy gummy bears. They're disgusting. "
   ]
  },
  {
   "cell_type": "markdown",
   "metadata": {},
   "source": [
    "## 3. Keras MMP <a id=\"Q3\"></a>\n",
    "\n",
    "Implement a Multilayer Perceptron architecture of your choosing using the Keras library. Train your model and report its baseline accuracy. Then hyperparameter tune at least two parameters and report your model's accuracy.\n",
    "Use the Heart Disease Dataset (binary classification)\n",
    "Use an appropriate loss function for a binary classification task\n",
    "Use an appropriate activation function on the final layer of your network.\n",
    "Train your model using verbose output for ease of grading.\n",
    "Use GridSearchCV or RandomSearchCV to hyperparameter tune your model. (for at least two hyperparameters)\n",
    "When hyperparameter tuning, show you work by adding code cells for each new experiment.\n",
    "Report the accuracy for each combination of hyperparameters as you test them so that we can easily see which resulted in the highest accuracy.\n",
    "You must hyperparameter tune at least 3 parameters in order to get a 3 on this section."
   ]
  },
  {
   "cell_type": "code",
   "execution_count": 14,
   "metadata": {
    "inputHidden": false,
    "jupyter": {
     "outputs_hidden": false
    },
    "outputHidden": false
   },
   "outputs": [
    {
     "name": "stdout",
     "output_type": "stream",
     "text": [
      "(303, 14)\n"
     ]
    },
    {
     "data": {
      "text/html": [
       "<div>\n",
       "<style scoped>\n",
       "    .dataframe tbody tr th:only-of-type {\n",
       "        vertical-align: middle;\n",
       "    }\n",
       "\n",
       "    .dataframe tbody tr th {\n",
       "        vertical-align: top;\n",
       "    }\n",
       "\n",
       "    .dataframe thead th {\n",
       "        text-align: right;\n",
       "    }\n",
       "</style>\n",
       "<table border=\"1\" class=\"dataframe\">\n",
       "  <thead>\n",
       "    <tr style=\"text-align: right;\">\n",
       "      <th></th>\n",
       "      <th>age</th>\n",
       "      <th>sex</th>\n",
       "      <th>cp</th>\n",
       "      <th>trestbps</th>\n",
       "      <th>chol</th>\n",
       "      <th>fbs</th>\n",
       "      <th>restecg</th>\n",
       "      <th>thalach</th>\n",
       "      <th>exang</th>\n",
       "      <th>oldpeak</th>\n",
       "      <th>slope</th>\n",
       "      <th>ca</th>\n",
       "      <th>thal</th>\n",
       "      <th>target</th>\n",
       "    </tr>\n",
       "  </thead>\n",
       "  <tbody>\n",
       "    <tr>\n",
       "      <th>106</th>\n",
       "      <td>69</td>\n",
       "      <td>1</td>\n",
       "      <td>3</td>\n",
       "      <td>160</td>\n",
       "      <td>234</td>\n",
       "      <td>1</td>\n",
       "      <td>0</td>\n",
       "      <td>131</td>\n",
       "      <td>0</td>\n",
       "      <td>0.1</td>\n",
       "      <td>1</td>\n",
       "      <td>1</td>\n",
       "      <td>2</td>\n",
       "      <td>1</td>\n",
       "    </tr>\n",
       "    <tr>\n",
       "      <th>245</th>\n",
       "      <td>48</td>\n",
       "      <td>1</td>\n",
       "      <td>0</td>\n",
       "      <td>124</td>\n",
       "      <td>274</td>\n",
       "      <td>0</td>\n",
       "      <td>0</td>\n",
       "      <td>166</td>\n",
       "      <td>0</td>\n",
       "      <td>0.5</td>\n",
       "      <td>1</td>\n",
       "      <td>0</td>\n",
       "      <td>3</td>\n",
       "      <td>0</td>\n",
       "    </tr>\n",
       "    <tr>\n",
       "      <th>92</th>\n",
       "      <td>52</td>\n",
       "      <td>1</td>\n",
       "      <td>2</td>\n",
       "      <td>138</td>\n",
       "      <td>223</td>\n",
       "      <td>0</td>\n",
       "      <td>1</td>\n",
       "      <td>169</td>\n",
       "      <td>0</td>\n",
       "      <td>0.0</td>\n",
       "      <td>2</td>\n",
       "      <td>4</td>\n",
       "      <td>2</td>\n",
       "      <td>1</td>\n",
       "    </tr>\n",
       "    <tr>\n",
       "      <th>13</th>\n",
       "      <td>64</td>\n",
       "      <td>1</td>\n",
       "      <td>3</td>\n",
       "      <td>110</td>\n",
       "      <td>211</td>\n",
       "      <td>0</td>\n",
       "      <td>0</td>\n",
       "      <td>144</td>\n",
       "      <td>1</td>\n",
       "      <td>1.8</td>\n",
       "      <td>1</td>\n",
       "      <td>0</td>\n",
       "      <td>2</td>\n",
       "      <td>1</td>\n",
       "    </tr>\n",
       "    <tr>\n",
       "      <th>30</th>\n",
       "      <td>41</td>\n",
       "      <td>0</td>\n",
       "      <td>1</td>\n",
       "      <td>105</td>\n",
       "      <td>198</td>\n",
       "      <td>0</td>\n",
       "      <td>1</td>\n",
       "      <td>168</td>\n",
       "      <td>0</td>\n",
       "      <td>0.0</td>\n",
       "      <td>2</td>\n",
       "      <td>1</td>\n",
       "      <td>2</td>\n",
       "      <td>1</td>\n",
       "    </tr>\n",
       "  </tbody>\n",
       "</table>\n",
       "</div>"
      ],
      "text/plain": [
       "     age  sex  cp  trestbps  chol  fbs  restecg  thalach  exang  oldpeak  \\\n",
       "106   69    1   3       160   234    1        0      131      0      0.1   \n",
       "245   48    1   0       124   274    0        0      166      0      0.5   \n",
       "92    52    1   2       138   223    0        1      169      0      0.0   \n",
       "13    64    1   3       110   211    0        0      144      1      1.8   \n",
       "30    41    0   1       105   198    0        1      168      0      0.0   \n",
       "\n",
       "     slope  ca  thal  target  \n",
       "106      1   1     2       1  \n",
       "245      1   0     3       0  \n",
       "92       2   4     2       1  \n",
       "13       1   0     2       1  \n",
       "30       2   1     2       1  "
      ]
     },
     "execution_count": 14,
     "metadata": {},
     "output_type": "execute_result"
    }
   ],
   "source": [
    "import pandas as pd\n",
    "from sklearn.preprocessing import StandardScaler\n",
    "\n",
    "df = pd.read_csv('https://raw.githubusercontent.com/ryanleeallred/datasets/master/heart.csv')\n",
    "df = df.sample(frac=1)\n",
    "print(df.shape)\n",
    "df.head()"
   ]
  },
  {
   "cell_type": "code",
   "execution_count": 15,
   "metadata": {},
   "outputs": [],
   "source": [
    "#Importing packages\n",
    "import tensorflow\n",
    "from tensorflow import keras\n",
    "from sklearn.preprocessing import MinMaxScaler, Normalizer, OrdinalEncoder\n",
    "from tensorflow.keras.models import Sequential, Model\n",
    "from tensorflow.keras.layers import Dense, Dropout, Activation\n",
    "\n",
    "from sklearn.linear_model import LinearRegression\n",
    "from sklearn.metrics import mean_squared_error\n",
    "\n",
    "from tensorflow.keras.optimizers import Adam, SGD\n",
    "from sklearn.model_selection import GridSearchCV\n",
    "from tensorflow.keras.wrappers.scikit_learn import KerasClassifier\n",
    "\n",
    "from tensorflow.keras.utils import to_categorical"
   ]
  },
  {
   "cell_type": "code",
   "execution_count": 16,
   "metadata": {},
   "outputs": [
    {
     "name": "stderr",
     "output_type": "stream",
     "text": [
      "/Users/ericchiyembekeza/anaconda3/lib/python3.7/site-packages/sklearn/preprocessing/data.py:323: DataConversionWarning: Data with input dtype int64, float64 were all converted to float64 by MinMaxScaler.\n",
      "  return self.partial_fit(X, y)\n"
     ]
    }
   ],
   "source": [
    "#Train, test, split\n",
    "scaler = MinMaxScaler()\n",
    "df_transform = scaler.fit_transform(df)"
   ]
  },
  {
   "cell_type": "code",
   "execution_count": 17,
   "metadata": {},
   "outputs": [
    {
     "name": "stdout",
     "output_type": "stream",
     "text": [
      "(242, 13) (61, 13) (242,) (61,)\n"
     ]
    }
   ],
   "source": [
    "# Split the values into X and y components:\n",
    "X_train, X_test, y_train, y_test = train_test_split(df_transform[:, :-1], df_transform[:, -1], \n",
    "test_size=0.20, random_state=85)\n",
    "\n",
    "print(X_train.shape, X_test.shape, y_train.shape, y_test.shape)"
   ]
  },
  {
   "cell_type": "code",
   "execution_count": 18,
   "metadata": {},
   "outputs": [],
   "source": [
    "#Arrive at baseline\n",
    "# Fixing random seed for reproducibility\n",
    "seed = 42\n",
    "np.random.seed(seed)\n",
    "\n",
    "# Function to create model, required for KerasClassifier\n",
    "def create_model():\n",
    "  # create model\n",
    "  model = Sequential()\n",
    "  model.add(Dense(13, input_dim=13, activation='relu'))\n",
    "  #model.add(Dropout(0.2))  # <-- added these later to see effect on score\n",
    "  model.add(Dense(12, activation='sigmoid'))\n",
    "  #model.add(Dropout(0.2))  # <-- added these later to see effect on score, omitted from baseline.\n",
    "  model.add(Dense(1, activation='sigmoid'))\n",
    "\n",
    "  # compile model\n",
    "  adam = Adam(lr=0.01, beta_1=0.9, beta_2=0.999, epsilon=1e-8)\n",
    "  model.compile(loss='binary_crossentropy', optimizer=adam, metrics=['accuracy'])\n",
    "  print(model.summary())\n",
    "  return model\n",
    "\n",
    "# create model\n",
    "model = KerasClassifier(build_fn=create_model, verbose=0)"
   ]
  },
  {
   "cell_type": "code",
   "execution_count": 19,
   "metadata": {},
   "outputs": [
    {
     "name": "stdout",
     "output_type": "stream",
     "text": [
      "Model: \"sequential\"\n",
      "_________________________________________________________________\n",
      "Layer (type)                 Output Shape              Param #   \n",
      "=================================================================\n",
      "dense (Dense)                (None, 13)                182       \n",
      "_________________________________________________________________\n",
      "dense_1 (Dense)              (None, 12)                168       \n",
      "_________________________________________________________________\n",
      "dense_2 (Dense)              (None, 1)                 13        \n",
      "=================================================================\n",
      "Total params: 363\n",
      "Trainable params: 363\n",
      "Non-trainable params: 0\n",
      "_________________________________________________________________\n",
      "None\n",
      "Train on 242 samples, validate on 61 samples\n",
      "Epoch 1/50\n",
      "242/242 [==============================] - 1s 3ms/sample - loss: 0.6877 - accuracy: 0.5289 - val_loss: 0.6610 - val_accuracy: 0.5902\n",
      "Epoch 2/50\n",
      "242/242 [==============================] - 0s 220us/sample - loss: 0.6493 - accuracy: 0.5826 - val_loss: 0.5981 - val_accuracy: 0.8033\n",
      "Epoch 3/50\n",
      "242/242 [==============================] - 0s 231us/sample - loss: 0.5709 - accuracy: 0.7893 - val_loss: 0.5134 - val_accuracy: 0.8197\n",
      "Epoch 4/50\n",
      "242/242 [==============================] - 0s 172us/sample - loss: 0.4831 - accuracy: 0.7975 - val_loss: 0.4179 - val_accuracy: 0.8361\n",
      "Epoch 5/50\n",
      "242/242 [==============================] - 0s 151us/sample - loss: 0.4396 - accuracy: 0.8058 - val_loss: 0.4311 - val_accuracy: 0.8197\n",
      "Epoch 6/50\n",
      "242/242 [==============================] - 0s 171us/sample - loss: 0.4354 - accuracy: 0.8140 - val_loss: 0.3826 - val_accuracy: 0.8361\n",
      "Epoch 7/50\n",
      "242/242 [==============================] - 0s 187us/sample - loss: 0.4078 - accuracy: 0.8099 - val_loss: 0.3794 - val_accuracy: 0.8197\n",
      "Epoch 8/50\n",
      "242/242 [==============================] - 0s 189us/sample - loss: 0.3963 - accuracy: 0.8430 - val_loss: 0.3710 - val_accuracy: 0.8361\n",
      "Epoch 9/50\n",
      "242/242 [==============================] - 0s 163us/sample - loss: 0.3919 - accuracy: 0.8264 - val_loss: 0.3771 - val_accuracy: 0.8361\n",
      "Epoch 10/50\n",
      "242/242 [==============================] - 0s 202us/sample - loss: 0.3888 - accuracy: 0.8140 - val_loss: 0.3693 - val_accuracy: 0.8361\n",
      "Epoch 11/50\n",
      "242/242 [==============================] - 0s 177us/sample - loss: 0.3937 - accuracy: 0.8264 - val_loss: 0.3639 - val_accuracy: 0.8361\n",
      "Epoch 12/50\n",
      "242/242 [==============================] - 0s 179us/sample - loss: 0.3712 - accuracy: 0.8430 - val_loss: 0.3613 - val_accuracy: 0.8361\n",
      "Epoch 13/50\n",
      "242/242 [==============================] - 0s 893us/sample - loss: 0.3718 - accuracy: 0.8388 - val_loss: 0.3427 - val_accuracy: 0.8689\n",
      "Epoch 14/50\n",
      "242/242 [==============================] - 0s 472us/sample - loss: 0.3807 - accuracy: 0.8306 - val_loss: 0.3537 - val_accuracy: 0.8361\n",
      "Epoch 15/50\n",
      "242/242 [==============================] - 0s 272us/sample - loss: 0.3582 - accuracy: 0.8388 - val_loss: 0.3476 - val_accuracy: 0.8525\n",
      "Epoch 16/50\n",
      "242/242 [==============================] - 0s 380us/sample - loss: 0.3612 - accuracy: 0.8471 - val_loss: 0.3681 - val_accuracy: 0.8361\n",
      "Epoch 17/50\n",
      "242/242 [==============================] - 0s 335us/sample - loss: 0.3587 - accuracy: 0.8471 - val_loss: 0.3566 - val_accuracy: 0.8361\n",
      "Epoch 18/50\n",
      "242/242 [==============================] - 0s 240us/sample - loss: 0.3694 - accuracy: 0.8430 - val_loss: 0.3772 - val_accuracy: 0.8197\n",
      "Epoch 19/50\n",
      "242/242 [==============================] - 0s 276us/sample - loss: 0.3535 - accuracy: 0.8802 - val_loss: 0.3454 - val_accuracy: 0.8361\n",
      "Epoch 20/50\n",
      "242/242 [==============================] - 0s 281us/sample - loss: 0.3582 - accuracy: 0.8554 - val_loss: 0.3898 - val_accuracy: 0.8033\n",
      "Epoch 21/50\n",
      "242/242 [==============================] - 0s 410us/sample - loss: 0.3458 - accuracy: 0.8678 - val_loss: 0.3493 - val_accuracy: 0.8197\n",
      "Epoch 22/50\n",
      "242/242 [==============================] - 0s 234us/sample - loss: 0.3316 - accuracy: 0.8471 - val_loss: 0.3654 - val_accuracy: 0.8361\n",
      "Epoch 23/50\n",
      "242/242 [==============================] - 0s 285us/sample - loss: 0.3418 - accuracy: 0.8760 - val_loss: 0.3277 - val_accuracy: 0.8525\n",
      "Epoch 24/50\n",
      "242/242 [==============================] - 0s 361us/sample - loss: 0.3473 - accuracy: 0.8678 - val_loss: 0.4277 - val_accuracy: 0.8361\n",
      "Epoch 25/50\n",
      "242/242 [==============================] - 0s 249us/sample - loss: 0.3313 - accuracy: 0.8760 - val_loss: 0.3206 - val_accuracy: 0.8852\n",
      "Epoch 26/50\n",
      "242/242 [==============================] - 0s 250us/sample - loss: 0.3814 - accuracy: 0.8264 - val_loss: 0.4285 - val_accuracy: 0.7705\n",
      "Epoch 27/50\n",
      "242/242 [==============================] - 0s 230us/sample - loss: 0.3907 - accuracy: 0.8140 - val_loss: 0.3096 - val_accuracy: 0.9016\n",
      "Epoch 28/50\n",
      "242/242 [==============================] - 0s 223us/sample - loss: 0.3428 - accuracy: 0.8719 - val_loss: 0.3358 - val_accuracy: 0.9016\n",
      "Epoch 29/50\n",
      "242/242 [==============================] - 0s 252us/sample - loss: 0.3147 - accuracy: 0.8802 - val_loss: 0.3649 - val_accuracy: 0.8525\n",
      "Epoch 30/50\n",
      "242/242 [==============================] - 0s 246us/sample - loss: 0.3170 - accuracy: 0.8802 - val_loss: 0.3516 - val_accuracy: 0.8689\n",
      "Epoch 31/50\n",
      "242/242 [==============================] - 0s 370us/sample - loss: 0.2998 - accuracy: 0.8926 - val_loss: 0.3443 - val_accuracy: 0.8852\n",
      "Epoch 32/50\n",
      "242/242 [==============================] - 0s 266us/sample - loss: 0.2964 - accuracy: 0.8926 - val_loss: 0.3628 - val_accuracy: 0.8689\n",
      "Epoch 33/50\n",
      "242/242 [==============================] - 0s 275us/sample - loss: 0.2909 - accuracy: 0.8926 - val_loss: 0.3447 - val_accuracy: 0.8689\n",
      "Epoch 34/50\n",
      "242/242 [==============================] - 0s 237us/sample - loss: 0.2847 - accuracy: 0.8926 - val_loss: 0.3599 - val_accuracy: 0.8361\n",
      "Epoch 35/50\n",
      "242/242 [==============================] - 0s 185us/sample - loss: 0.2904 - accuracy: 0.9008 - val_loss: 0.3704 - val_accuracy: 0.8525\n",
      "Epoch 36/50\n",
      "242/242 [==============================] - 0s 207us/sample - loss: 0.2767 - accuracy: 0.8884 - val_loss: 0.3629 - val_accuracy: 0.8689\n",
      "Epoch 37/50\n",
      "242/242 [==============================] - 0s 204us/sample - loss: 0.2753 - accuracy: 0.8926 - val_loss: 0.3811 - val_accuracy: 0.8689\n",
      "Epoch 38/50\n",
      "242/242 [==============================] - 0s 256us/sample - loss: 0.2721 - accuracy: 0.8967 - val_loss: 0.3709 - val_accuracy: 0.8689\n",
      "Epoch 39/50\n",
      "242/242 [==============================] - 0s 178us/sample - loss: 0.2639 - accuracy: 0.9008 - val_loss: 0.3753 - val_accuracy: 0.8689\n",
      "Epoch 40/50\n",
      "242/242 [==============================] - 0s 205us/sample - loss: 0.2903 - accuracy: 0.8760 - val_loss: 0.4820 - val_accuracy: 0.7869\n",
      "Epoch 41/50\n",
      "242/242 [==============================] - 0s 207us/sample - loss: 0.2957 - accuracy: 0.8843 - val_loss: 0.3329 - val_accuracy: 0.8689\n",
      "Epoch 42/50\n",
      "242/242 [==============================] - 0s 246us/sample - loss: 0.2798 - accuracy: 0.8884 - val_loss: 0.4098 - val_accuracy: 0.8197\n",
      "Epoch 43/50\n",
      "242/242 [==============================] - ETA: 0s - loss: 0.3397 - accuracy: 0.85 - 0s 159us/sample - loss: 0.2860 - accuracy: 0.8802 - val_loss: 0.4303 - val_accuracy: 0.8033\n",
      "Epoch 44/50\n",
      "242/242 [==============================] - 0s 178us/sample - loss: 0.2706 - accuracy: 0.8926 - val_loss: 0.3843 - val_accuracy: 0.8689\n",
      "Epoch 45/50\n",
      "242/242 [==============================] - 0s 192us/sample - loss: 0.2588 - accuracy: 0.8926 - val_loss: 0.3406 - val_accuracy: 0.8852\n",
      "Epoch 46/50\n",
      "242/242 [==============================] - 0s 198us/sample - loss: 0.2463 - accuracy: 0.9091 - val_loss: 0.3922 - val_accuracy: 0.8689\n",
      "Epoch 47/50\n",
      "242/242 [==============================] - 0s 269us/sample - loss: 0.2481 - accuracy: 0.8967 - val_loss: 0.3828 - val_accuracy: 0.8852\n",
      "Epoch 48/50\n",
      "242/242 [==============================] - 0s 200us/sample - loss: 0.2580 - accuracy: 0.9050 - val_loss: 0.3773 - val_accuracy: 0.8689\n",
      "Epoch 49/50\n",
      "242/242 [==============================] - 0s 274us/sample - loss: 0.2463 - accuracy: 0.9050 - val_loss: 0.3838 - val_accuracy: 0.8689\n",
      "Epoch 50/50\n",
      "242/242 [==============================] - 0s 190us/sample - loss: 0.2409 - accuracy: 0.9132 - val_loss: 0.4497 - val_accuracy: 0.8033\n"
     ]
    },
    {
     "data": {
      "text/plain": [
       "<tensorflow.python.keras.callbacks.History at 0x135549390>"
      ]
     },
     "execution_count": 19,
     "metadata": {},
     "output_type": "execute_result"
    }
   ],
   "source": [
    "model.fit(X_train, y_train,\n",
    "          validation_data=(X_test,y_test),\n",
    "          epochs=50,\n",
    "          batch_size=20,\n",
    "          verbose=1)"
   ]
  },
  {
   "cell_type": "code",
   "execution_count": 20,
   "metadata": {},
   "outputs": [
    {
     "name": "stdout",
     "output_type": "stream",
     "text": [
      "Accuracy: 0.8032786885245902\n"
     ]
    }
   ],
   "source": [
    "print(f\"Accuracy: {accuracy_score(np.round(model.predict(X_test)),y_test)}\")"
   ]
  },
  {
   "cell_type": "code",
   "execution_count": 21,
   "metadata": {},
   "outputs": [],
   "source": [
    "#Grid search\n",
    "# Function to create model, required for KerasClassifier:\n",
    "def gridsearch_create_model():\n",
    "  # create model\n",
    "  model = Sequential()\n",
    "  model.add(Dense(13, input_dim=13, activation='relu'))\n",
    "  model.add(Dense(12, activation='sigmoid'))\n",
    "  model.add(Dense(1, activation='sigmoid'))\n",
    "\n",
    "  # compile model\n",
    "  adam = Adam(lr=0.001, beta_1=0.9, beta_2=0.999, epsilon=1e-8)\n",
    "  model.compile(loss='binary_crossentropy', optimizer=adam, metrics=['accuracy'])\n",
    "\n",
    "  return model\n",
    "\n",
    "  # create model\n",
    "model2 = KerasClassifier(build_fn=gridsearch_create_model, verbose=0)\n",
    "\n",
    "  # define the grid search parameters\n",
    "param_grid = {'batch_size': [32, 64, 128, 256, 512],\n",
    "                'epochs': [100]}\n",
    "\n",
    "                # see \"Results, with tuning:\" cell below for version changes\n",
    "                # note: original batch_size: [10, 20, 40, 60, 80, 100],"
   ]
  },
  {
   "cell_type": "code",
   "execution_count": 22,
   "metadata": {},
   "outputs": [
    {
     "name": "stderr",
     "output_type": "stream",
     "text": [
      "/Users/ericchiyembekeza/anaconda3/lib/python3.7/site-packages/sklearn/model_selection/_split.py:2053: FutureWarning: You should specify a value for 'cv' instead of relying on the default value. The default value will change from 3 to 5 in version 0.22.\n",
      "  warnings.warn(CV_WARNING, FutureWarning)\n",
      "/Users/ericchiyembekeza/anaconda3/lib/python3.7/site-packages/sklearn/model_selection/_search.py:841: DeprecationWarning: The default of the `iid` parameter will change from True to False in version 0.22 and will be removed in 0.24. This will change numeric results when test-set sizes are unequal.\n",
      "  DeprecationWarning)\n"
     ]
    }
   ],
   "source": [
    "# Create grid search\n",
    "grid = GridSearchCV(estimator=model2, param_grid=param_grid)\n",
    "grid_result = grid.fit(X_train, y_train)"
   ]
  },
  {
   "cell_type": "code",
   "execution_count": 23,
   "metadata": {},
   "outputs": [
    {
     "name": "stdout",
     "output_type": "stream",
     "text": [
      "Best: 0.793388436155871 using {'batch_size': 32, 'epochs': 100}\n",
      "Means: 0.793388436155871, Stdev: 0.014348479569389014 with: [{'batch_size': 32, 'epochs': 100}, {'batch_size': 64, 'epochs': 100}, {'batch_size': 128, 'epochs': 100}, {'batch_size': 256, 'epochs': 100}, {'batch_size': 512, 'epochs': 100}]\n",
      "Means: 0.7892561919433027, Stdev: 0.018164069367789176 with: [{'batch_size': 32, 'epochs': 100}, {'batch_size': 64, 'epochs': 100}, {'batch_size': 128, 'epochs': 100}, {'batch_size': 256, 'epochs': 100}, {'batch_size': 512, 'epochs': 100}]\n",
      "Means: 0.7892562101695163, Stdev: 0.010176116175992542 with: [{'batch_size': 32, 'epochs': 100}, {'batch_size': 64, 'epochs': 100}, {'batch_size': 128, 'epochs': 100}, {'batch_size': 256, 'epochs': 100}, {'batch_size': 512, 'epochs': 100}]\n",
      "Means: 0.7603305570842805, Stdev: 0.056532076639136286 with: [{'batch_size': 32, 'epochs': 100}, {'batch_size': 64, 'epochs': 100}, {'batch_size': 128, 'epochs': 100}, {'batch_size': 256, 'epochs': 100}, {'batch_size': 512, 'epochs': 100}]\n",
      "Means: 0.6900826571894086, Stdev: 0.07431781911884507 with: [{'batch_size': 32, 'epochs': 100}, {'batch_size': 64, 'epochs': 100}, {'batch_size': 128, 'epochs': 100}, {'batch_size': 256, 'epochs': 100}, {'batch_size': 512, 'epochs': 100}]\n"
     ]
    }
   ],
   "source": [
    "# Report Results\n",
    "print(f\"Best: {grid_result.best_score_} using {grid_result.best_params_}\")\n",
    "means = grid_result.cv_results_['mean_test_score']\n",
    "stds = grid_result.cv_results_['std_test_score']\n",
    "params = grid_result.cv_results_['params']\n",
    "for mean, stdev, param in zip(means, stds, params):\n",
    "  print(f\"Means: {mean}, Stdev: {stdev} with: {params}\")"
   ]
  },
  {
   "cell_type": "code",
   "execution_count": null,
   "metadata": {},
   "outputs": [],
   "source": []
  }
 ],
 "metadata": {
  "kernel_info": {
   "name": "python3"
  },
  "kernelspec": {
   "display_name": "Python 3",
   "language": "python",
   "name": "python3"
  },
  "language_info": {
   "codemirror_mode": {
    "name": "ipython",
    "version": 3
   },
   "file_extension": ".py",
   "mimetype": "text/x-python",
   "name": "python",
   "nbconvert_exporter": "python",
   "pygments_lexer": "ipython3",
   "version": "3.7.3"
  },
  "nteract": {
   "version": "0.15.0"
  }
 },
 "nbformat": 4,
 "nbformat_minor": 4
}
